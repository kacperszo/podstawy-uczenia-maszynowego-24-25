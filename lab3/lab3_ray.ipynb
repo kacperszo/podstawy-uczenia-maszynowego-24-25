{
 "cells": [
  {
   "cell_type": "markdown",
   "metadata": {},
   "source": [
    "### Bez raya"
   ]
  },
  {
   "cell_type": "code",
   "execution_count": 1,
   "metadata": {
    "execution": {
     "iopub.execute_input": "2025-05-10T15:11:10.821224Z",
     "iopub.status.busy": "2025-05-10T15:11:10.820227Z",
     "iopub.status.idle": "2025-05-10T15:11:50.995866Z",
     "shell.execute_reply": "2025-05-10T15:11:50.995359Z",
     "shell.execute_reply.started": "2025-05-10T15:11:10.821224Z"
    },
    "tags": []
   },
   "outputs": [
    {
     "name": "stderr",
     "output_type": "stream",
     "text": [
      "E:\\anaconda3\\Lib\\site-packages\\sklearn\\svm\\_classes.py:32: FutureWarning: The default value of `dual` will change from `True` to `'auto'` in 1.5. Set the value of `dual` explicitly to suppress the warning.\n",
      "  warnings.warn(\n"
     ]
    },
    {
     "name": "stdout",
     "output_type": "stream",
     "text": [
      "=== Wyniki bez raya ===\n",
      "Linear SVM F1-score: 0.5913, czas: 16.02 s\n",
      "Kernel SVM F1-score: 0.8594, czas: 22.25 s\n"
     ]
    }
   ],
   "source": [
    "import pandas as pd\n",
    "import numpy as np\n",
    "from sklearn.model_selection import train_test_split, GridSearchCV\n",
    "from sklearn.svm import LinearSVC, SVC\n",
    "from sklearn.preprocessing import StandardScaler\n",
    "from sklearn.metrics import f1_score\n",
    "import warnings\n",
    "from sklearn.exceptions import ConvergenceWarning\n",
    "from time import time\n",
    "\n",
    "# Wczytaj dane\n",
    "df = pd.read_csv(\"customer_churn_data.csv\")\n",
    "y = df.pop(\"Churn\")\n",
    "fn_cost = df.pop(\"FN\")\n",
    "fp_cost = df.pop(\"FP\")\n",
    "\n",
    "# Podział na zbiór treningowy i testowy\n",
    "X_train, X_test, y_train, y_test, fp_cost_train, fp_cost_test, fn_cost_train, fn_cost_test = train_test_split(\n",
    "    df, y, fp_cost, fn_cost, test_size=0.25, random_state=0, stratify=y\n",
    ")\n",
    "\n",
    "# Skalowanie\n",
    "scaler = StandardScaler()\n",
    "X_train = scaler.fit_transform(X_train)\n",
    "X_test = scaler.transform(X_test)\n",
    "\n",
    "warnings.filterwarnings(\"ignore\", category=ConvergenceWarning)\n",
    "\n",
    "# ---- Linear SVM ----\n",
    "start = time()\n",
    "linear_svc = LinearSVC(loss=\"hinge\", max_iter=10_000, class_weight=\"balanced\", random_state=0)\n",
    "param_grid_linear = {\"C\": np.linspace(1e-2, 1e2, 100)}\n",
    "\n",
    "grid_linear = GridSearchCV(linear_svc, param_grid_linear, scoring=\"f1\", cv=5, n_jobs=-1)\n",
    "grid_linear.fit(X_train, y_train)\n",
    "linear_time = time() - start\n",
    "\n",
    "y_pred_linear = grid_linear.predict(X_test)\n",
    "f1_linear = f1_score(y_test, y_pred_linear)\n",
    "\n",
    "# ---- Kernel SVM ----\n",
    "start = time()\n",
    "kernel_svc = SVC(class_weight=\"balanced\", random_state=0)\n",
    "param_grid_kernel = {\n",
    "    \"kernel\": [\"rbf\"],\n",
    "    \"C\": np.linspace(1e-2, 1e2, 10),\n",
    "    \"gamma\": [\"scale\"] + list(np.linspace(0.1, 10, 10)),\n",
    "}\n",
    "\n",
    "grid_kernel = GridSearchCV(kernel_svc, param_grid_kernel, scoring=\"f1\", cv=5, n_jobs=-1)\n",
    "grid_kernel.fit(X_train, y_train)\n",
    "kernel_time = time() - start\n",
    "\n",
    "y_pred_kernel = grid_kernel.predict(X_test)\n",
    "f1_kernel = f1_score(y_test, y_pred_kernel)\n",
    "\n",
    "# ---- Wyniki ----\n",
    "print(\"=== Wyniki bez raya ===\")\n",
    "print(f\"Linear SVM F1-score: {f1_linear:.4f}, czas: {linear_time:.2f} s\")\n",
    "print(f\"Kernel SVM F1-score: {f1_kernel:.4f}, czas: {kernel_time:.2f} s\")\n"
   ]
  },
  {
   "cell_type": "markdown",
   "metadata": {},
   "source": [
    "### Z rayem"
   ]
  },
  {
   "cell_type": "code",
   "execution_count": 4,
   "metadata": {
    "execution": {
     "iopub.execute_input": "2025-05-10T15:12:59.558479Z",
     "iopub.status.busy": "2025-05-10T15:12:59.557476Z",
     "iopub.status.idle": "2025-05-10T15:12:59.569979Z",
     "shell.execute_reply": "2025-05-10T15:12:59.568962Z",
     "shell.execute_reply.started": "2025-05-10T15:12:59.558479Z"
    },
    "tags": []
   },
   "outputs": [
    {
     "ename": "SyntaxError",
     "evalue": "unterminated string literal (detected at line 33) (276727793.py, line 33)",
     "output_type": "error",
     "traceback": [
      "\u001b[1;36m  File \u001b[1;32m\"C:\\Users\\kacpe\\AppData\\Local\\Temp\\ipykernel_11456\\276727793.py\"\u001b[1;36m, line \u001b[1;32m33\u001b[0m\n\u001b[1;33m    print(\"Podzial zakoncozny)\u001b[0m\n\u001b[1;37m          ^\u001b[0m\n\u001b[1;31mSyntaxError\u001b[0m\u001b[1;31m:\u001b[0m unterminated string literal (detected at line 33)\n"
     ]
    }
   ],
   "source": [
    "import ray\n",
    "from ray import train\n",
    "from ray.train import Checkpoint, RunConfig, ScalingConfig\n",
    "from ray.tune import Tuner\n",
    "from sklearn.model_selection import train_test_split\n",
    "from sklearn.svm import LinearSVC\n",
    "from sklearn.metrics import f1_score\n",
    "from sklearn.preprocessing import StandardScaler\n",
    "import pandas as pd\n",
    "import numpy as np\n",
    "from time import time\n",
    "\n",
    "# Start Ray\n",
    "ray.init(\n",
    "    ignore_reinit_error=True,\n",
    "    include_dashboard=False,\n",
    "    _temp_dir=\"C:/ray_temp\"\n",
    ")\n",
    "print(\"Ray OK\")\n",
    "\n",
    "# Wczytaj dane\n",
    "df = pd.read_csv(\"customer_churn_data.csv\")\n",
    "y = df.pop(\"Churn\")\n",
    "fn_cost = df.pop(\"FN\")\n",
    "fp_cost = df.pop(\"FP\")\n",
    "\n",
    "print(\"Date wczytane\")\n",
    "      \n",
    "# Podział i skalowanie\n",
    "X_train, X_test, y_train, y_test, fp_cost_train, fp_cost_test, fn_cost_train, fn_cost_test = train_test_split(\n",
    "    df, y, fp_cost, fn_cost, test_size=0.25, random_state=0, stratify=y\n",
    ")\n",
    "print(\"Podzial zakoncozny\")\n",
    "scaler = StandardScaler()\n",
    "X_train_scaled = scaler.fit_transform(X_train)\n",
    "X_test_scaled = scaler.transform(X_test)\n",
    "\n",
    "# Ray Dataset\n",
    "import ray.data\n",
    "ds = ray.data.from_items([{\n",
    "    \"X\": x, \"y\": int(y)\n",
    "} for x, y in zip(X_train_scaled, y_train)])\n",
    "print(\"Dane do raya wczytane)\n",
    "# Funkcja treningowa\n",
    "def train_func(config):\n",
    "    X = np.stack([row[\"X\"] for row in train.get_dataset_shard(\"train\").iter_torch_batches(batch_size=1024, collate_fn=lambda x: x)])\n",
    "    y = np.array([row[\"y\"] for row in train.get_dataset_shard(\"train\").iter_torch_batches(batch_size=1024, collate_fn=lambda x: x)])\n",
    "    X = X.reshape(-1, X.shape[-1])\n",
    "\n",
    "    model = LinearSVC(\n",
    "        C=config[\"C\"],\n",
    "        loss=\"hinge\",\n",
    "        max_iter=10_000,\n",
    "        class_weight=\"balanced\",\n",
    "        random_state=0\n",
    "    )\n",
    "    model.fit(X, y)\n",
    "    preds = model.predict(X)\n",
    "    f1 = f1_score(y, preds)\n",
    "    train.report({\"f1\": f1})\n",
    "\n",
    "# Hiperparametry\n",
    "search_space = {\n",
    "    \"C\": ray.tune.grid_search(list(np.linspace(1e-2, 1e2, 10)))\n",
    "}\n",
    "\n",
    "# Konfiguracja\n",
    "scaling_config = ScalingConfig(num_workers=1, use_gpu=False)\n",
    "\n",
    "print(\"zaczynam tunning huperparametryczny\")\n",
    "start = time()\n",
    "tuner = Tuner(\n",
    "    train_func,\n",
    "    param_space=search_space,\n",
    "    run_config=RunConfig(name=\"linear_svm_ray\"),\n",
    "    scaling_config=scaling_config,\n",
    "    tune_config=ray.tune.TuneConfig(metric=\"f1\", mode=\"max\"),\n",
    ")\n",
    "\n",
    "results = tuner.fit()\n",
    "ray_time = time() - start\n",
    "\n",
    "best_result = results.get_best_result()\n",
    "print(\"=== Wyniki z Ray ===\")\n",
    "print(f\"Best F1-score (train): {best_result.metrics['f1']:.4f}, czas: {ray_time:.2f} s\")\n",
    "\n",
    "ray.shutdown()"
   ]
  },
  {
   "cell_type": "code",
   "execution_count": null,
   "metadata": {},
   "outputs": [],
   "source": []
  }
 ],
 "metadata": {
  "kernelspec": {
   "display_name": "Python 3 (ipykernel)",
   "language": "python",
   "name": "python3"
  },
  "language_info": {
   "codemirror_mode": {
    "name": "ipython",
    "version": 3
   },
   "file_extension": ".py",
   "mimetype": "text/x-python",
   "name": "python",
   "nbconvert_exporter": "python",
   "pygments_lexer": "ipython3",
   "version": "3.11.5"
  }
 },
 "nbformat": 4,
 "nbformat_minor": 4
}
